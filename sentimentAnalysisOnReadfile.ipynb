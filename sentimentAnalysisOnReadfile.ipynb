{
  "nbformat": 4,
  "nbformat_minor": 0,
  "metadata": {
    "anaconda-cloud": {},
    "kernelspec": {
      "display_name": "Python 3",
      "language": "python",
      "name": "python3"
    },
    "language_info": {
      "codemirror_mode": {
        "name": "ipython",
        "version": 3
      },
      "file_extension": ".py",
      "mimetype": "text/x-python",
      "name": "python",
      "nbconvert_exporter": "python",
      "pygments_lexer": "ipython3",
      "version": "3.6.1"
    },
    "colab": {
      "name": "sentimentAnalysisOnReadfile.ipynb",
      "provenance": []
    }
  },
  "cells": [
    {
      "cell_type": "code",
      "metadata": {
        "id": "_2fTnsAI5-h0",
        "colab_type": "code",
        "colab": {
          "base_uri": "https://localhost:8080/",
          "height": 121
        },
        "outputId": "0490c41b-a8f5-435f-ea78-0231aa86d3fc"
      },
      "source": [
        "!git clone https://github.com/smfcoder/Sentiment-Analysis.git"
      ],
      "execution_count": 2,
      "outputs": [
        {
          "output_type": "stream",
          "text": [
            "Cloning into 'Sentiment-Analysis'...\n",
            "remote: Enumerating objects: 14, done.\u001b[K\n",
            "remote: Counting objects: 100% (14/14), done.\u001b[K\n",
            "remote: Compressing objects: 100% (10/10), done.\u001b[K\n",
            "remote: Total 14 (delta 2), reused 14 (delta 2), pack-reused 0\u001b[K\n",
            "Unpacking objects: 100% (14/14), done.\n"
          ],
          "name": "stdout"
        }
      ]
    },
    {
      "cell_type": "code",
      "metadata": {
        "id": "zRgLNcYM4mKy",
        "colab_type": "code",
        "colab": {
          "base_uri": "https://localhost:8080/",
          "height": 546
        },
        "outputId": "f90a1c84-b7c9-41db-8517-bbb1e11736f5"
      },
      "source": [
        "import string\n",
        "from collections import Counter\n",
        "import matplotlib.pyplot as plt\n",
        "\n",
        "text = open(\"/content/Sentiment-Analysis/read.txt\", encoding='utf-8').read()\n",
        "lowerCase = text.lower()\n",
        "print(lowerCase)\n",
        "\n",
        "cleanText = lowerCase.translate(str.maketrans('', '', string.punctuation))\n",
        "print(cleanText)\n",
        "\n",
        "\n",
        "token = cleanText.split()\n",
        "stopWords = [\"i\", \"me\", \"my\", \"myself\", \"we\", \"our\", \"ours\", \"ourselves\", \"you\", \"your\", \"yours\", \"yourself\", \"yourselves\", \"he\", \"him\", \"his\", \"himself\", \"she\", \"her\", \"hers\", \"herself\", \"it\", \"its\", \"itself\", \"they\", \"them\", \"their\", \"theirs\", \"themselves\", \"what\", \"which\", \"who\", \"whom\", \"this\", \"that\", \"these\", \"those\", \"am\", \"is\", \"are\", \"was\", \"were\", \"be\", \"been\", \"being\", \"have\", \"has\", \"had\", \"having\", \"do\", \"does\", \"did\", \"doing\", \"a\", \"an\", \"the\", \"and\", \"but\", \"if\", \"or\", \"because\", \"as\", \"until\", \"while\", \"of\", \"at\", \"by\", \"for\", \"with\", \"about\", \"against\", \"between\", \"into\", \"through\", \"during\", \"before\", \"after\", \"above\", \"below\", \"to\", \"from\", \"up\", \"down\", \"in\", \"out\", \"on\", \"off\", \"over\", \"under\", \"again\", \"further\", \"then\", \"once\", \"here\", \"there\", \"when\", \"where\", \"why\", \"how\", \"all\", \"any\", \"both\", \"each\", \"few\", \"more\", \"most\", \"other\", \"some\", \"such\", \"no\", \"nor\", \"not\", \"only\", \"own\", \"same\", \"so\", \"than\", \"too\", \"very\", \"s\", \"t\", \"can\", \"will\", \"just\", \"don\", \"should\", \"now\"]\n",
        "\n",
        "\n",
        "\n",
        "finalWords = list()\n",
        "for word in token:\n",
        "    if word not in stopWords:\n",
        "        finalWords.append(word)\n",
        "\n",
        "\n",
        "emotions = list()\n",
        "with open(\"/content/Sentiment-Analysis/emotion.txt\", 'r') as file:\n",
        "    for line in file:\n",
        "        cleanLine = line.replace(\"\\n\", '').replace(\",\", '').replace(\"'\", '').strip()\n",
        "        word, emotion = cleanLine.split(':')\n",
        "\n",
        "        if word in finalWords:\n",
        "            emotions.append(emotion)\n",
        "\n",
        "count = Counter(emotions)\n",
        "print(count)\n",
        "\n",
        "plt.bar(count.keys(), count.values())\n",
        "plt.show()\n",
        "\n"
      ],
      "execution_count": 3,
      "outputs": [
        {
          "output_type": "stream",
          "text": [
            "as early as i could remember myself, my memories have been colored with melancholy and sad feelings. yes, i admit it: i am a person who loves being sad. as a child, i loved gloomy fairy tales; as a teenager, i loved tragic novels and films, which made my parents worry a lot. i realized that i did not meet their expectations: in their ideal world, a happy person must irradiate joy all the time. in my view, this state of constant life enjoyment looked slightly idiotic. and i kept asking myself if sadness is really so bad.\n",
            "\n",
            "one of the points, which i have discovered, is that people very seldom differentiate between sadness and misery and mistake one feeling for the other, although they are very different in nature. misery can only be caused by some deeply traumatic experience; however, sadness in a natural middle between being extremely happy and feeling deep sorrow.\n",
            "\n",
            "another important issue is that sadness often accompanies the process of thinking, consideration, and evaluation. if, for example, you once watch the facial expression of a person who is writing something deep in thought, you will see that he/she looks sad.\n",
            "\n",
            "furthermore, sadness is absolutely natural: almost all our important events in life are colored with it. we feel it when we have to leave a place where we felt good, we experience it when we are happy because deep down we all know it will not last forever, when parents see their children getting married, they are happy, but at the same time they are sad, because their kids have grown up.\n",
            "as early as i could remember myself my memories have been colored with melancholy and sad feelings yes i admit it i am a person who loves being sad as a child i loved gloomy fairy tales as a teenager i loved tragic novels and films which made my parents worry a lot i realized that i did not meet their expectations in their ideal world a happy person must irradiate joy all the time in my view this state of constant life enjoyment looked slightly idiotic and i kept asking myself if sadness is really so bad\n",
            "\n",
            "one of the points which i have discovered is that people very seldom differentiate between sadness and misery and mistake one feeling for the other although they are very different in nature misery can only be caused by some deeply traumatic experience however sadness in a natural middle between being extremely happy and feeling deep sorrow\n",
            "\n",
            "another important issue is that sadness often accompanies the process of thinking consideration and evaluation if for example you once watch the facial expression of a person who is writing something deep in thought you will see that heshe looks sad\n",
            "\n",
            "furthermore sadness is absolutely natural almost all our important events in life are colored with it we feel it when we have to leave a place where we felt good we experience it when we are happy because deep down we all know it will not last forever when parents see their children getting married they are happy but at the same time they are sad because their kids have grown up\n",
            "Counter({' sad': 4, ' happy': 2, ' attached': 1, ' loved': 1})\n"
          ],
          "name": "stdout"
        },
        {
          "output_type": "display_data",
          "data": {
            "image/png": "[encoded data removed]",
            "text/plain": [
              "<Figure size 432x288 with 1 Axes>"
            ]
          },
          "metadata": {
            "tags": [],
            "needs_background": "light"
          }
        }
      ]
    }
  ]
}
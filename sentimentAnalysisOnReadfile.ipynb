{
  "cells": [
    {
      "cell_type": "code",
      "metadata": {},
      "source": [
        "import string\n",
        "from collections import Counter\n",
        "import matplotlib.pyplot as plt\n",
        "\n",
        "text = open(\"read2.txt\", encoding='utf-8').read()\n",
        "lowerCase = text.lower()\n",
        "print(lowerCase)\n",
        "\n",
        "cleanText = lowerCase.translate(str.maketrans('', '', string.punctuation))\n",
        "print(cleanText)\n",
        "\n",
        "\n",
        "token = cleanText.split()\n",
        "stopWords = [\"i\", \"me\", \"my\", \"myself\", \"we\", \"our\", \"ours\", \"ourselves\", \"you\", \"your\", \"yours\", \"yourself\", \"yourselves\", \"he\", \"him\", \"his\", \"himself\", \"she\", \"her\", \"hers\", \"herself\", \"it\", \"its\", \"itself\", \"they\", \"them\", \"their\", \"theirs\", \"themselves\", \"what\", \"which\", \"who\", \"whom\", \"this\", \"that\", \"these\", \"those\", \"am\", \"is\", \"are\", \"was\", \"were\", \"be\", \"been\", \"being\", \"have\", \"has\", \"had\", \"having\", \"do\", \"does\", \"did\", \"doing\", \"a\", \"an\", \"the\", \"and\", \"but\", \"if\", \"or\", \"because\", \"as\", \"until\", \"while\", \"of\", \"at\", \"by\", \"for\", \"with\", \"about\", \"against\", \"between\", \"into\", \"through\", \"during\", \"before\", \"after\", \"above\", \"below\", \"to\", \"from\", \"up\", \"down\", \"in\", \"out\", \"on\", \"off\", \"over\", \"under\", \"again\", \"further\", \"then\", \"once\", \"here\", \"there\", \"when\", \"where\", \"why\", \"how\", \"all\", \"any\", \"both\", \"each\", \"few\", \"more\", \"most\", \"other\", \"some\", \"such\", \"no\", \"nor\", \"not\", \"only\", \"own\", \"same\", \"so\", \"than\", \"too\", \"very\", \"s\", \"t\", \"can\", \"will\", \"just\", \"don\", \"should\", \"now\"]\n",
        "\n",
        "\n",
        "\n",
        "finalWords = list()\n",
        "for word in token:\n",
        "    if word not in stopWords:\n",
        "        finalWords.append(word)\n",
        "\n",
        "\n",
        "emotions = list()\n",
        "with open(\"emotion.txt\", 'r') as file:\n",
        "    for line in file:\n",
        "        cleanLine = line.replace(\"\\n\", '').replace(\",\", '').replace(\"'\", '').strip()\n",
        "        word, emotion = cleanLine.split(':')\n",
        "\n",
        "        if word in finalWords:\n",
        "            emotions.append(emotion)\n",
        "\n",
        "count = Counter(emotions)\n",
        "print(count)\n",
        "\n",
        "plt.bar(count.keys(), count.values())\n",
        "plt.show()\n",
        "\n"
      ],
      "outputs": [],
      "execution_count": null
    }
  ],
  "metadata": {
    "anaconda-cloud": {},
    "kernelspec": {
      "display_name": "Python 3",
      "language": "python",
      "name": "python3"
    },
    "language_info": {
      "codemirror_mode": {
        "name": "ipython",
        "version": 3
      },
      "file_extension": ".py",
      "mimetype": "text/x-python",
      "name": "python",
      "nbconvert_exporter": "python",
      "pygments_lexer": "ipython3",
      "version": "3.6.1"
    }
  },
  "nbformat": 4,
  "nbformat_minor": 4
}